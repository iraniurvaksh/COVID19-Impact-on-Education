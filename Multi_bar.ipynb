{
 "cells": [
  {
   "cell_type": "code",
   "execution_count": 3,
   "id": "4f23d97d",
   "metadata": {},
   "outputs": [],
   "source": [
    "import pandas as pd\n",
    "import seaborn as sns\n",
    "import matplotlib.pyplot as plt\n",
    "import numpy as np"
   ]
  },
  {
   "cell_type": "code",
   "execution_count": 2,
   "id": "4a04a2ce",
   "metadata": {},
   "outputs": [
    {
     "data": {
      "text/html": [
       "<div>\n",
       "<style scoped>\n",
       "    .dataframe tbody tr th:only-of-type {\n",
       "        vertical-align: middle;\n",
       "    }\n",
       "\n",
       "    .dataframe tbody tr th {\n",
       "        vertical-align: top;\n",
       "    }\n",
       "\n",
       "    .dataframe thead th {\n",
       "        text-align: right;\n",
       "    }\n",
       "</style>\n",
       "<table border=\"1\" class=\"dataframe\">\n",
       "  <thead>\n",
       "    <tr style=\"text-align: right;\">\n",
       "      <th></th>\n",
       "      <th>Count</th>\n",
       "      <th>Daily commute to University? - Pre Covid 19</th>\n",
       "      <th>Daily commute to University? - Post Covid 19</th>\n",
       "      <th>Access to Technology</th>\n",
       "    </tr>\n",
       "  </thead>\n",
       "  <tbody>\n",
       "    <tr>\n",
       "      <th>0</th>\n",
       "      <td>1</td>\n",
       "      <td>less than 30 min</td>\n",
       "      <td>less than 30 min</td>\n",
       "      <td>Use my own devices.</td>\n",
       "    </tr>\n",
       "    <tr>\n",
       "      <th>1</th>\n",
       "      <td>2</td>\n",
       "      <td>less than 30 min</td>\n",
       "      <td>less than 30 min</td>\n",
       "      <td>Use my own devices.</td>\n",
       "    </tr>\n",
       "    <tr>\n",
       "      <th>2</th>\n",
       "      <td>3</td>\n",
       "      <td>less than 30 min</td>\n",
       "      <td>less than 30 min</td>\n",
       "      <td>Use my own devices.</td>\n",
       "    </tr>\n",
       "    <tr>\n",
       "      <th>3</th>\n",
       "      <td>4</td>\n",
       "      <td>less than 30 min</td>\n",
       "      <td>1-2 hours</td>\n",
       "      <td>Borrowed devices from University</td>\n",
       "    </tr>\n",
       "    <tr>\n",
       "      <th>4</th>\n",
       "      <td>5</td>\n",
       "      <td>less than 30 min</td>\n",
       "      <td>1-2 hours</td>\n",
       "      <td>Use my own devices.</td>\n",
       "    </tr>\n",
       "  </tbody>\n",
       "</table>\n",
       "</div>"
      ],
      "text/plain": [
       "   Count Daily commute to University? - Pre Covid 19  \\\n",
       "0      1                            less than 30 min   \n",
       "1      2                            less than 30 min   \n",
       "2      3                            less than 30 min   \n",
       "3      4                            less than 30 min   \n",
       "4      5                            less than 30 min   \n",
       "\n",
       "  Daily commute to University? - Post Covid 19  \\\n",
       "0                             less than 30 min   \n",
       "1                             less than 30 min   \n",
       "2                             less than 30 min   \n",
       "3                                    1-2 hours   \n",
       "4                                    1-2 hours   \n",
       "\n",
       "               Access to Technology  \n",
       "0               Use my own devices.  \n",
       "1               Use my own devices.  \n",
       "2               Use my own devices.  \n",
       "3  Borrowed devices from University  \n",
       "4               Use my own devices.  "
      ]
     },
     "execution_count": 2,
     "metadata": {},
     "output_type": "execute_result"
    }
   ],
   "source": [
    "df = pd.read_csv('commute.csv')\n",
    "df.head()"
   ]
  },
  {
   "cell_type": "code",
   "execution_count": 78,
   "id": "d1ab7b3c",
   "metadata": {},
   "outputs": [],
   "source": [
    "size_pre = df.groupby(['Daily commute to University? - Pre Covid 19'], as_index=False).size()\n",
    "size_pre.rename(columns={'Daily commute to University? - Pre Covid 19': 'Daily commute', 'size': 'Pre'}, inplace=True)\n",
    "size_post = df.groupby(['Daily commute to University? - Post Covid 19'], as_index=False).size()\n",
    "size_post.rename(columns={'Daily commute to University? - Post Covid 19': 'Daily commute', 'size': 'Post'}, inplace=True)"
   ]
  },
  {
   "cell_type": "code",
   "execution_count": 79,
   "id": "817a38b5",
   "metadata": {},
   "outputs": [],
   "source": [
    "df_mer = pd.merge(size_pre, size_post, on='Daily commute')\n",
    "del df_mer['Post']"
   ]
  },
  {
   "cell_type": "code",
   "execution_count": 80,
   "id": "a4ff9f17",
   "metadata": {},
   "outputs": [
    {
     "data": {
      "text/html": [
       "<div>\n",
       "<style scoped>\n",
       "    .dataframe tbody tr th:only-of-type {\n",
       "        vertical-align: middle;\n",
       "    }\n",
       "\n",
       "    .dataframe tbody tr th {\n",
       "        vertical-align: top;\n",
       "    }\n",
       "\n",
       "    .dataframe thead th {\n",
       "        text-align: right;\n",
       "    }\n",
       "</style>\n",
       "<table border=\"1\" class=\"dataframe\">\n",
       "  <thead>\n",
       "    <tr style=\"text-align: right;\">\n",
       "      <th></th>\n",
       "      <th>Daily commute</th>\n",
       "      <th>Count</th>\n",
       "      <th>COVID Time</th>\n",
       "    </tr>\n",
       "  </thead>\n",
       "  <tbody>\n",
       "    <tr>\n",
       "      <th>0</th>\n",
       "      <td>1-2 hours</td>\n",
       "      <td>8</td>\n",
       "      <td>Pre</td>\n",
       "    </tr>\n",
       "    <tr>\n",
       "      <th>1</th>\n",
       "      <td>30-60 min</td>\n",
       "      <td>18</td>\n",
       "      <td>Pre</td>\n",
       "    </tr>\n",
       "    <tr>\n",
       "      <th>2</th>\n",
       "      <td>less than 30 min</td>\n",
       "      <td>17</td>\n",
       "      <td>Pre</td>\n",
       "    </tr>\n",
       "    <tr>\n",
       "      <th>3</th>\n",
       "      <td>1-2 hours</td>\n",
       "      <td>14</td>\n",
       "      <td>Post</td>\n",
       "    </tr>\n",
       "    <tr>\n",
       "      <th>4</th>\n",
       "      <td>30-60 min</td>\n",
       "      <td>16</td>\n",
       "      <td>Post</td>\n",
       "    </tr>\n",
       "    <tr>\n",
       "      <th>5</th>\n",
       "      <td>less than 30 min</td>\n",
       "      <td>13</td>\n",
       "      <td>Post</td>\n",
       "    </tr>\n",
       "  </tbody>\n",
       "</table>\n",
       "</div>"
      ],
      "text/plain": [
       "      Daily commute  Count COVID Time\n",
       "0         1-2 hours      8        Pre\n",
       "1         30-60 min     18        Pre\n",
       "2  less than 30 min     17        Pre\n",
       "3         1-2 hours     14       Post\n",
       "4         30-60 min     16       Post\n",
       "5  less than 30 min     13       Post"
      ]
     },
     "execution_count": 80,
     "metadata": {},
     "output_type": "execute_result"
    }
   ],
   "source": [
    "a = ['Pre','Pre','Pre']\n",
    "df_mer['Time'] = a\n",
    "df_mer.loc[3] = ['1-2 hours',14,'Post']\n",
    "df_mer.loc[4] = ['30-60 min',16,'Post']\n",
    "df_mer.loc[5] = ['less than 30 min',13,'Post']\n",
    "df_mer.rename(columns={\"Pre\": \"Count\",'Time':'COVID Time'}, inplace=True)\n",
    "df_mer"
   ]
  },
  {
   "cell_type": "code",
   "execution_count": 87,
   "id": "b5c71a64",
   "metadata": {},
   "outputs": [
    {
     "data": {
      "image/png": "[encoded data removed]",
      "text/plain": [
       "<Figure size 435.925x360 with 1 Axes>"
      ]
     },
     "metadata": {},
     "output_type": "display_data"
    }
   ],
   "source": [
    "sns.catplot(data=df_mer, kind=\"bar\", x=\"Daily commute\", y=\"Count\", hue=\"COVID Time\", palette=\"dark\", height=5)\n",
    "plt.xlabel('Daily commute time')\n",
    "plt.ylabel('Number of people')\n",
    "plt.yticks([0,5,10,15,20])\n",
    "plt.show()"
   ]
  },
  {
   "cell_type": "code",
   "execution_count": 184,
   "id": "fc584d58",
   "metadata": {},
   "outputs": [
    {
     "data": {
      "text/html": [
       "<div>\n",
       "<style scoped>\n",
       "    .dataframe tbody tr th:only-of-type {\n",
       "        vertical-align: middle;\n",
       "    }\n",
       "\n",
       "    .dataframe tbody tr th {\n",
       "        vertical-align: top;\n",
       "    }\n",
       "\n",
       "    .dataframe thead th {\n",
       "        text-align: right;\n",
       "    }\n",
       "</style>\n",
       "<table border=\"1\" class=\"dataframe\">\n",
       "  <thead>\n",
       "    <tr style=\"text-align: right;\">\n",
       "      <th></th>\n",
       "      <th>Hours</th>\n",
       "      <th>Time spent on self study</th>\n",
       "      <th>Time spent on fitness</th>\n",
       "      <th>Time spent on sleep</th>\n",
       "    </tr>\n",
       "  </thead>\n",
       "  <tbody>\n",
       "    <tr>\n",
       "      <th>0</th>\n",
       "      <td>0 - 1</td>\n",
       "      <td>85</td>\n",
       "      <td>485.0</td>\n",
       "      <td>0.0</td>\n",
       "    </tr>\n",
       "    <tr>\n",
       "      <th>1</th>\n",
       "      <td>1 - 2</td>\n",
       "      <td>188</td>\n",
       "      <td>550.0</td>\n",
       "      <td>0.0</td>\n",
       "    </tr>\n",
       "    <tr>\n",
       "      <th>2</th>\n",
       "      <td>2 - 3</td>\n",
       "      <td>354</td>\n",
       "      <td>120.0</td>\n",
       "      <td>0.0</td>\n",
       "    </tr>\n",
       "    <tr>\n",
       "      <th>3</th>\n",
       "      <td>3 - 4</td>\n",
       "      <td>205</td>\n",
       "      <td>25.0</td>\n",
       "      <td>0.0</td>\n",
       "    </tr>\n",
       "    <tr>\n",
       "      <th>4</th>\n",
       "      <td>4 - 5</td>\n",
       "      <td>152</td>\n",
       "      <td>1.0</td>\n",
       "      <td>5.0</td>\n",
       "    </tr>\n",
       "  </tbody>\n",
       "</table>\n",
       "</div>"
      ],
      "text/plain": [
       "   Hours  Time spent on self study  Time spent on fitness  Time spent on sleep\n",
       "0  0 - 1                        85                  485.0                  0.0\n",
       "1  1 - 2                       188                  550.0                  0.0\n",
       "2  2 - 3                       354                  120.0                  0.0\n",
       "3  3 - 4                       205                   25.0                  0.0\n",
       "4  4 - 5                       152                    1.0                  5.0"
      ]
     },
     "execution_count": 184,
     "metadata": {},
     "output_type": "execute_result"
    }
   ],
   "source": [
    "df1= pd.read_csv('New COVID-19 Survey Student Responses.csv')\n",
    "df1 = df1.fillna(0)\n",
    "df1.head()"
   ]
  },
  {
   "cell_type": "code",
   "execution_count": 127,
   "id": "1c8ccc4c",
   "metadata": {},
   "outputs": [
    {
     "data": {
      "image/png": "[encoded data removed]",
      "text/plain": [
       "<Figure size 1512x720 with 3 Axes>"
      ]
     },
     "metadata": {},
     "output_type": "display_data"
    }
   ],
   "source": [
    "fig, (ax1, ax2, ax3) = plt.subplots(1, 3)\n",
    "ax1.barh(df1['Hours'],df1['Time spent on fitness'])\n",
    "ax2.barh(df1['Hours'],df1['Time spent on self study'])\n",
    "ax3.barh(df1['Hours'],df1['Time spent on sleep'])\n",
    "plt.gcf().set_size_inches(21, 10)\n",
    "plt.xticks(rotation=90)\n",
    "#plt.invert_yaxis()\n",
    "#plt.tight_layout()\n",
    "plt.show()"
   ]
  },
  {
   "cell_type": "code",
   "execution_count": 202,
   "id": "bf977f99",
   "metadata": {},
   "outputs": [
    {
     "data": {
      "image/png": "[encoded data removed]",
      "text/plain": [
       "<Figure size 1512x720 with 3 Axes>"
      ]
     },
     "metadata": {},
     "output_type": "display_data"
    }
   ],
   "source": [
    "n1_plots = 4\n",
    "palette_1 = sns.color_palette(\"mako\", n_colors=n1_plots)\n",
    "n2_plots = 11\n",
    "palette_2 = sns.color_palette(\"YlOrBr\", n_colors=n2_plots)\n",
    "n3_plots = 11\n",
    "palette_3 = sns.color_palette(\"flare\", n_colors=n3_plots)\n",
    "fig, axes = plt.subplots(1, 3,sharey=True)\n",
    "sns.barplot(ax=axes[0],x=\"Time spent on fitness\", y=\"Hours\", data=df1,palette=palette_1)\n",
    "sns.barplot(ax=axes[1],x=\"Time spent on self study\", y=\"Hours\", data=df1,palette=palette_2)\n",
    "sns.barplot(ax=axes[2],x=\"Time spent on sleep\", y=\"Hours\", data=df1,palette=palette_3)\n",
    "axes[0].set_title('Time spent on fitness')\n",
    "axes[1].set_title('Time spent on self study')\n",
    "axes[2].set_title('Time spent on sleep')\n",
    "\n",
    "plt.gcf().set_size_inches(21, 10)"
   ]
  },
  {
   "cell_type": "code",
   "execution_count": null,
   "id": "7bf48eeb",
   "metadata": {},
   "outputs": [],
   "source": []
  },
  {
   "cell_type": "code",
   "execution_count": 208,
   "id": "08ef8ac3",
   "metadata": {},
   "outputs": [
    {
     "data": {
      "image/png": "[encoded data removed]",
      "text/plain": [
       "<Figure size 1512x720 with 3 Axes>"
      ]
     },
     "metadata": {},
     "output_type": "display_data"
    }
   ],
   "source": [
    "n1_plots = 4\n",
    "palette_1 = sns.color_palette(\"mako\", n_colors=n1_plots)\n",
    "n2_plots = 11\n",
    "palette_2 = sns.color_palette(\"YlOrBr\", n_colors=n2_plots)\n",
    "n3_plots = 11\n",
    "palette_3 = sns.color_palette(\"flare\", n_colors=n3_plots)\n",
    "fig, (ax1,ax2,ax3) = plt.subplots(1, 3)#sharey=True)\n",
    "sns.barplot(ax=ax1,x=\"Time spent on fitness\", y=\"Hours\", data=df1,palette=palette_1)\n",
    "sns.barplot(ax=ax2,x=\"Time spent on self study\", y=\"Hours\", data=df1,palette=palette_2)\n",
    "sns.barplot(ax=ax3,x=\"Time spent on sleep\", y=\"Hours\", data=df1,palette=palette_3)\n",
    "ax1.set_title('Time spent on fitness')\n",
    "ax2.set_title('Time spent on self study')\n",
    "ax3.set_title('Time spent on sleep')\n",
    "ax1.set_xlabel('Number of students')\n",
    "ax2.set_xlabel('Number of students')\n",
    "ax3.set_xlabel('Number of students')\n",
    "ax1.set_ylabel('Time (Hours)')\n",
    "ax2.set_ylabel('Time (Hours)')\n",
    "ax3.set_ylabel('Time (Hours)')\n",
    "\n",
    "plt.gcf().set_size_inches(21, 10)"
   ]
  },
  {
   "cell_type": "code",
   "execution_count": 27,
   "id": "209c0a59",
   "metadata": {},
   "outputs": [
    {
     "data": {
      "text/html": [
       "<div>\n",
       "<style scoped>\n",
       "    .dataframe tbody tr th:only-of-type {\n",
       "        vertical-align: middle;\n",
       "    }\n",
       "\n",
       "    .dataframe tbody tr th {\n",
       "        vertical-align: top;\n",
       "    }\n",
       "\n",
       "    .dataframe thead th {\n",
       "        text-align: right;\n",
       "    }\n",
       "</style>\n",
       "<table border=\"1\" class=\"dataframe\">\n",
       "  <thead>\n",
       "    <tr style=\"text-align: right;\">\n",
       "      <th></th>\n",
       "      <th>Hours of sleep a day? - Pre Covid 19:Right</th>\n",
       "      <th>Hours of sleep a day? - Post Covid 19:Right</th>\n",
       "    </tr>\n",
       "  </thead>\n",
       "  <tbody>\n",
       "    <tr>\n",
       "      <th>0</th>\n",
       "      <td>8-9</td>\n",
       "      <td>8-9</td>\n",
       "    </tr>\n",
       "    <tr>\n",
       "      <th>1</th>\n",
       "      <td>6-7</td>\n",
       "      <td>8-9</td>\n",
       "    </tr>\n",
       "    <tr>\n",
       "      <th>2</th>\n",
       "      <td>4-5</td>\n",
       "      <td>less than 4 hours</td>\n",
       "    </tr>\n",
       "    <tr>\n",
       "      <th>3</th>\n",
       "      <td>4-5</td>\n",
       "      <td>8-9</td>\n",
       "    </tr>\n",
       "    <tr>\n",
       "      <th>4</th>\n",
       "      <td>6-7</td>\n",
       "      <td>8-9</td>\n",
       "    </tr>\n",
       "  </tbody>\n",
       "</table>\n",
       "</div>"
      ],
      "text/plain": [
       "  Hours of sleep a day? - Pre Covid 19:Right  \\\n",
       "0                                        8-9   \n",
       "1                                        6-7   \n",
       "2                                        4-5   \n",
       "3                                        4-5   \n",
       "4                                        6-7   \n",
       "\n",
       "  Hours of sleep a day? - Post Covid 19:Right  \n",
       "0                                         8-9  \n",
       "1                                         8-9  \n",
       "2                           less than 4 hours  \n",
       "3                                         8-9  \n",
       "4                                         8-9  "
      ]
     },
     "execution_count": 27,
     "metadata": {},
     "output_type": "execute_result"
    }
   ],
   "source": [
    "df = pd.read_csv('sleep.csv')\n",
    "df.at[31,'Hours of sleep a day? - Pre Covid 19:Right']='4-5'\n",
    "df.at[31,'Hours of sleep a day? - Post Covid 19:Right']='8-9'\n",
    "df.at[29,'Hours of sleep a day? - Pre Covid 19:Right']='4-5'\n",
    "df.head()"
   ]
  },
  {
   "cell_type": "code",
   "execution_count": 33,
   "id": "df84fa4e",
   "metadata": {},
   "outputs": [],
   "source": [
    "sleep_pre = df.groupby(['Hours of sleep a day? - Pre Covid 19:Right'], as_index=False).size()\n",
    "sleep_pre.rename(columns={'Hours of sleep a day? - Pre Covid 19:Right': 'Hours of sleep', 'size': 'Count'}, inplace=True)\n",
    "sleep_post = df.groupby(['Hours of sleep a day? - Post Covid 19:Right'], as_index=False).size()\n",
    "sleep_post.rename(columns={'Hours of sleep a day? - Post Covid 19:Right': 'Hours of sleep', 'size': 'Count'}, inplace=True)"
   ]
  },
  {
   "cell_type": "code",
   "execution_count": 34,
   "id": "11612d25",
   "metadata": {},
   "outputs": [
    {
     "data": {
      "text/html": [
       "<div>\n",
       "<style scoped>\n",
       "    .dataframe tbody tr th:only-of-type {\n",
       "        vertical-align: middle;\n",
       "    }\n",
       "\n",
       "    .dataframe tbody tr th {\n",
       "        vertical-align: top;\n",
       "    }\n",
       "\n",
       "    .dataframe thead th {\n",
       "        text-align: right;\n",
       "    }\n",
       "</style>\n",
       "<table border=\"1\" class=\"dataframe\">\n",
       "  <thead>\n",
       "    <tr style=\"text-align: right;\">\n",
       "      <th></th>\n",
       "      <th>Hours of sleep</th>\n",
       "      <th>Count</th>\n",
       "    </tr>\n",
       "  </thead>\n",
       "  <tbody>\n",
       "    <tr>\n",
       "      <th>0</th>\n",
       "      <td>4-5</td>\n",
       "      <td>6</td>\n",
       "    </tr>\n",
       "    <tr>\n",
       "      <th>1</th>\n",
       "      <td>6-7</td>\n",
       "      <td>28</td>\n",
       "    </tr>\n",
       "    <tr>\n",
       "      <th>2</th>\n",
       "      <td>8-9</td>\n",
       "      <td>8</td>\n",
       "    </tr>\n",
       "    <tr>\n",
       "      <th>3</th>\n",
       "      <td>less than 4 hours</td>\n",
       "      <td>1</td>\n",
       "    </tr>\n",
       "  </tbody>\n",
       "</table>\n",
       "</div>"
      ],
      "text/plain": [
       "      Hours of sleep  Count\n",
       "0                4-5      6\n",
       "1                6-7     28\n",
       "2                8-9      8\n",
       "3  less than 4 hours      1"
      ]
     },
     "execution_count": 34,
     "metadata": {},
     "output_type": "execute_result"
    }
   ],
   "source": [
    "sleep_pre"
   ]
  },
  {
   "cell_type": "code",
   "execution_count": 35,
   "id": "34d4451d",
   "metadata": {},
   "outputs": [
    {
     "data": {
      "text/html": [
       "<div>\n",
       "<style scoped>\n",
       "    .dataframe tbody tr th:only-of-type {\n",
       "        vertical-align: middle;\n",
       "    }\n",
       "\n",
       "    .dataframe tbody tr th {\n",
       "        vertical-align: top;\n",
       "    }\n",
       "\n",
       "    .dataframe thead th {\n",
       "        text-align: right;\n",
       "    }\n",
       "</style>\n",
       "<table border=\"1\" class=\"dataframe\">\n",
       "  <thead>\n",
       "    <tr style=\"text-align: right;\">\n",
       "      <th></th>\n",
       "      <th>Hours of sleep</th>\n",
       "      <th>Count</th>\n",
       "    </tr>\n",
       "  </thead>\n",
       "  <tbody>\n",
       "    <tr>\n",
       "      <th>0</th>\n",
       "      <td>10-12</td>\n",
       "      <td>1</td>\n",
       "    </tr>\n",
       "    <tr>\n",
       "      <th>1</th>\n",
       "      <td>4-5</td>\n",
       "      <td>2</td>\n",
       "    </tr>\n",
       "    <tr>\n",
       "      <th>2</th>\n",
       "      <td>6-7</td>\n",
       "      <td>8</td>\n",
       "    </tr>\n",
       "    <tr>\n",
       "      <th>3</th>\n",
       "      <td>8-9</td>\n",
       "      <td>30</td>\n",
       "    </tr>\n",
       "    <tr>\n",
       "      <th>4</th>\n",
       "      <td>less than 4 hours</td>\n",
       "      <td>2</td>\n",
       "    </tr>\n",
       "  </tbody>\n",
       "</table>\n",
       "</div>"
      ],
      "text/plain": [
       "      Hours of sleep  Count\n",
       "0              10-12      1\n",
       "1                4-5      2\n",
       "2                6-7      8\n",
       "3                8-9     30\n",
       "4  less than 4 hours      2"
      ]
     },
     "execution_count": 35,
     "metadata": {},
     "output_type": "execute_result"
    }
   ],
   "source": [
    "sleep_post"
   ]
  },
  {
   "cell_type": "code",
   "execution_count": 39,
   "id": "de9cb600",
   "metadata": {},
   "outputs": [
    {
     "data": {
      "text/html": [
       "<div>\n",
       "<style scoped>\n",
       "    .dataframe tbody tr th:only-of-type {\n",
       "        vertical-align: middle;\n",
       "    }\n",
       "\n",
       "    .dataframe tbody tr th {\n",
       "        vertical-align: top;\n",
       "    }\n",
       "\n",
       "    .dataframe thead th {\n",
       "        text-align: right;\n",
       "    }\n",
       "</style>\n",
       "<table border=\"1\" class=\"dataframe\">\n",
       "  <thead>\n",
       "    <tr style=\"text-align: right;\">\n",
       "      <th></th>\n",
       "      <th>Hours of sleep</th>\n",
       "      <th>Count</th>\n",
       "      <th>Time</th>\n",
       "    </tr>\n",
       "  </thead>\n",
       "  <tbody>\n",
       "    <tr>\n",
       "      <th>0</th>\n",
       "      <td>4-5</td>\n",
       "      <td>6</td>\n",
       "      <td>Pre</td>\n",
       "    </tr>\n",
       "    <tr>\n",
       "      <th>1</th>\n",
       "      <td>6-7</td>\n",
       "      <td>28</td>\n",
       "      <td>Pre</td>\n",
       "    </tr>\n",
       "    <tr>\n",
       "      <th>2</th>\n",
       "      <td>8-9</td>\n",
       "      <td>8</td>\n",
       "      <td>Pre</td>\n",
       "    </tr>\n",
       "    <tr>\n",
       "      <th>3</th>\n",
       "      <td>less than 4 hours</td>\n",
       "      <td>1</td>\n",
       "      <td>Pre</td>\n",
       "    </tr>\n",
       "    <tr>\n",
       "      <th>0</th>\n",
       "      <td>10-12</td>\n",
       "      <td>1</td>\n",
       "      <td>Post</td>\n",
       "    </tr>\n",
       "    <tr>\n",
       "      <th>1</th>\n",
       "      <td>4-5</td>\n",
       "      <td>2</td>\n",
       "      <td>Post</td>\n",
       "    </tr>\n",
       "    <tr>\n",
       "      <th>2</th>\n",
       "      <td>6-7</td>\n",
       "      <td>8</td>\n",
       "      <td>Post</td>\n",
       "    </tr>\n",
       "    <tr>\n",
       "      <th>3</th>\n",
       "      <td>8-9</td>\n",
       "      <td>30</td>\n",
       "      <td>Post</td>\n",
       "    </tr>\n",
       "    <tr>\n",
       "      <th>4</th>\n",
       "      <td>less than 4 hours</td>\n",
       "      <td>2</td>\n",
       "      <td>Post</td>\n",
       "    </tr>\n",
       "  </tbody>\n",
       "</table>\n",
       "</div>"
      ],
      "text/plain": [
       "      Hours of sleep  Count  Time\n",
       "0                4-5      6   Pre\n",
       "1                6-7     28   Pre\n",
       "2                8-9      8   Pre\n",
       "3  less than 4 hours      1   Pre\n",
       "0              10-12      1  Post\n",
       "1                4-5      2  Post\n",
       "2                6-7      8  Post\n",
       "3                8-9     30  Post\n",
       "4  less than 4 hours      2  Post"
      ]
     },
     "execution_count": 39,
     "metadata": {},
     "output_type": "execute_result"
    }
   ],
   "source": [
    "sleep_comb = pd.concat([sleep_pre, sleep_post])\n",
    "a = ['Pre','Pre','Pre','Pre','Post','Post','Post','Post','Post']\n",
    "sleep_comb['Time'] = a\n",
    "sleep_comb"
   ]
  },
  {
   "cell_type": "code",
   "execution_count": 49,
   "id": "cac81947",
   "metadata": {},
   "outputs": [
    {
     "data": {
      "image/png": "[encoded data removed]",
      "text/plain": [
       "<Figure size 416.75x360 with 1 Axes>"
      ]
     },
     "metadata": {
      "needs_background": "light"
     },
     "output_type": "display_data"
    }
   ],
   "source": [
    "sns.catplot(data=sleep_comb, kind=\"bar\", x=\"Hours of sleep\", y=\"Count\", hue=\"Time\", palette=\"dark\", height=5)\n",
    "plt.xlabel('Daily Sleep Time (Hours)')\n",
    "plt.ylabel('Number of people')\n",
    "plt.yticks([0,5,10,15,20,25,30,35])\n",
    "plt.xticks(rotation=20)\n",
    "plt.show()"
   ]
  },
  {
   "cell_type": "code",
   "execution_count": 52,
   "id": "1d54344a",
   "metadata": {},
   "outputs": [
    {
     "data": {
      "text/html": [
       "<div>\n",
       "<style scoped>\n",
       "    .dataframe tbody tr th:only-of-type {\n",
       "        vertical-align: middle;\n",
       "    }\n",
       "\n",
       "    .dataframe tbody tr th {\n",
       "        vertical-align: top;\n",
       "    }\n",
       "\n",
       "    .dataframe thead th {\n",
       "        text-align: right;\n",
       "    }\n",
       "</style>\n",
       "<table border=\"1\" class=\"dataframe\">\n",
       "  <thead>\n",
       "    <tr style=\"text-align: right;\">\n",
       "      <th></th>\n",
       "      <th>Count</th>\n",
       "      <th>Hours of self-care a day? ( Pre Covid 19)</th>\n",
       "      <th>Hours of self-care a day? ( Post Covid 19)</th>\n",
       "    </tr>\n",
       "  </thead>\n",
       "  <tbody>\n",
       "    <tr>\n",
       "      <th>0</th>\n",
       "      <td>1</td>\n",
       "      <td>less than1hour</td>\n",
       "      <td>less than1hour</td>\n",
       "    </tr>\n",
       "    <tr>\n",
       "      <th>1</th>\n",
       "      <td>2</td>\n",
       "      <td>none</td>\n",
       "      <td>2</td>\n",
       "    </tr>\n",
       "    <tr>\n",
       "      <th>2</th>\n",
       "      <td>3</td>\n",
       "      <td>2</td>\n",
       "      <td>none</td>\n",
       "    </tr>\n",
       "    <tr>\n",
       "      <th>3</th>\n",
       "      <td>4</td>\n",
       "      <td>none</td>\n",
       "      <td>2</td>\n",
       "    </tr>\n",
       "    <tr>\n",
       "      <th>4</th>\n",
       "      <td>5</td>\n",
       "      <td>less than1hour</td>\n",
       "      <td>2</td>\n",
       "    </tr>\n",
       "  </tbody>\n",
       "</table>\n",
       "</div>"
      ],
      "text/plain": [
       "   Count Hours of self-care a day? ( Pre Covid 19)  \\\n",
       "0      1                            less than1hour   \n",
       "1      2                                      none   \n",
       "2      3                                         2   \n",
       "3      4                                      none   \n",
       "4      5                            less than1hour   \n",
       "\n",
       "  Hours of self-care a day? ( Post Covid 19)  \n",
       "0                             less than1hour  \n",
       "1                                          2  \n",
       "2                                       none  \n",
       "3                                          2  \n",
       "4                                          2  "
      ]
     },
     "execution_count": 52,
     "metadata": {},
     "output_type": "execute_result"
    }
   ],
   "source": [
    "df = pd.read_csv('selfcare.csv')\n",
    "df.head()"
   ]
  },
  {
   "cell_type": "code",
   "execution_count": 54,
   "id": "b8133019",
   "metadata": {},
   "outputs": [],
   "source": [
    "self_pre = df.groupby(['Hours of self-care a day? ( Pre Covid 19)'], as_index=False).size()\n",
    "self_pre.rename(columns={'Hours of self-care a day? ( Pre Covid 19)': 'Hours of self_care', 'size': 'Count'}, inplace=True)\n",
    "self_post = df.groupby(['Hours of self-care a day? ( Post Covid 19)'], as_index=False).size()\n",
    "self_post.rename(columns={'Hours of self-care a day? ( Post Covid 19)': 'Hours of self_care', 'size': 'Count'}, inplace=True)"
   ]
  },
  {
   "cell_type": "code",
   "execution_count": 55,
   "id": "61a27262",
   "metadata": {},
   "outputs": [
    {
     "data": {
      "text/html": [
       "<div>\n",
       "<style scoped>\n",
       "    .dataframe tbody tr th:only-of-type {\n",
       "        vertical-align: middle;\n",
       "    }\n",
       "\n",
       "    .dataframe tbody tr th {\n",
       "        vertical-align: top;\n",
       "    }\n",
       "\n",
       "    .dataframe thead th {\n",
       "        text-align: right;\n",
       "    }\n",
       "</style>\n",
       "<table border=\"1\" class=\"dataframe\">\n",
       "  <thead>\n",
       "    <tr style=\"text-align: right;\">\n",
       "      <th></th>\n",
       "      <th>Hours of self_care</th>\n",
       "      <th>Count</th>\n",
       "    </tr>\n",
       "  </thead>\n",
       "  <tbody>\n",
       "    <tr>\n",
       "      <th>0</th>\n",
       "      <td>2</td>\n",
       "      <td>14</td>\n",
       "    </tr>\n",
       "    <tr>\n",
       "      <th>1</th>\n",
       "      <td>less than1hour</td>\n",
       "      <td>18</td>\n",
       "    </tr>\n",
       "    <tr>\n",
       "      <th>2</th>\n",
       "      <td>more than 2</td>\n",
       "      <td>3</td>\n",
       "    </tr>\n",
       "    <tr>\n",
       "      <th>3</th>\n",
       "      <td>none</td>\n",
       "      <td>7</td>\n",
       "    </tr>\n",
       "  </tbody>\n",
       "</table>\n",
       "</div>"
      ],
      "text/plain": [
       "  Hours of self_care  Count\n",
       "0                  2     14\n",
       "1     less than1hour     18\n",
       "2        more than 2      3\n",
       "3               none      7"
      ]
     },
     "execution_count": 55,
     "metadata": {},
     "output_type": "execute_result"
    }
   ],
   "source": [
    "self_pre"
   ]
  },
  {
   "cell_type": "code",
   "execution_count": 56,
   "id": "dd63b285",
   "metadata": {},
   "outputs": [
    {
     "data": {
      "text/html": [
       "<div>\n",
       "<style scoped>\n",
       "    .dataframe tbody tr th:only-of-type {\n",
       "        vertical-align: middle;\n",
       "    }\n",
       "\n",
       "    .dataframe tbody tr th {\n",
       "        vertical-align: top;\n",
       "    }\n",
       "\n",
       "    .dataframe thead th {\n",
       "        text-align: right;\n",
       "    }\n",
       "</style>\n",
       "<table border=\"1\" class=\"dataframe\">\n",
       "  <thead>\n",
       "    <tr style=\"text-align: right;\">\n",
       "      <th></th>\n",
       "      <th>Hours of self_care</th>\n",
       "      <th>Count</th>\n",
       "    </tr>\n",
       "  </thead>\n",
       "  <tbody>\n",
       "    <tr>\n",
       "      <th>0</th>\n",
       "      <td>2</td>\n",
       "      <td>20</td>\n",
       "    </tr>\n",
       "    <tr>\n",
       "      <th>1</th>\n",
       "      <td>less than1hour</td>\n",
       "      <td>15</td>\n",
       "    </tr>\n",
       "    <tr>\n",
       "      <th>2</th>\n",
       "      <td>more than 2</td>\n",
       "      <td>5</td>\n",
       "    </tr>\n",
       "    <tr>\n",
       "      <th>3</th>\n",
       "      <td>none</td>\n",
       "      <td>2</td>\n",
       "    </tr>\n",
       "  </tbody>\n",
       "</table>\n",
       "</div>"
      ],
      "text/plain": [
       "  Hours of self_care  Count\n",
       "0                  2     20\n",
       "1     less than1hour     15\n",
       "2        more than 2      5\n",
       "3               none      2"
      ]
     },
     "execution_count": 56,
     "metadata": {},
     "output_type": "execute_result"
    }
   ],
   "source": [
    "self_post"
   ]
  },
  {
   "cell_type": "code",
   "execution_count": 57,
   "id": "5e4f866f",
   "metadata": {},
   "outputs": [
    {
     "data": {
      "text/html": [
       "<div>\n",
       "<style scoped>\n",
       "    .dataframe tbody tr th:only-of-type {\n",
       "        vertical-align: middle;\n",
       "    }\n",
       "\n",
       "    .dataframe tbody tr th {\n",
       "        vertical-align: top;\n",
       "    }\n",
       "\n",
       "    .dataframe thead th {\n",
       "        text-align: right;\n",
       "    }\n",
       "</style>\n",
       "<table border=\"1\" class=\"dataframe\">\n",
       "  <thead>\n",
       "    <tr style=\"text-align: right;\">\n",
       "      <th></th>\n",
       "      <th>Hours of self_care</th>\n",
       "      <th>Count</th>\n",
       "      <th>Time</th>\n",
       "    </tr>\n",
       "  </thead>\n",
       "  <tbody>\n",
       "    <tr>\n",
       "      <th>0</th>\n",
       "      <td>2</td>\n",
       "      <td>14</td>\n",
       "      <td>Pre</td>\n",
       "    </tr>\n",
       "    <tr>\n",
       "      <th>1</th>\n",
       "      <td>less than1hour</td>\n",
       "      <td>18</td>\n",
       "      <td>Pre</td>\n",
       "    </tr>\n",
       "    <tr>\n",
       "      <th>2</th>\n",
       "      <td>more than 2</td>\n",
       "      <td>3</td>\n",
       "      <td>Pre</td>\n",
       "    </tr>\n",
       "    <tr>\n",
       "      <th>3</th>\n",
       "      <td>none</td>\n",
       "      <td>7</td>\n",
       "      <td>Pre</td>\n",
       "    </tr>\n",
       "    <tr>\n",
       "      <th>0</th>\n",
       "      <td>2</td>\n",
       "      <td>20</td>\n",
       "      <td>Post</td>\n",
       "    </tr>\n",
       "    <tr>\n",
       "      <th>1</th>\n",
       "      <td>less than1hour</td>\n",
       "      <td>15</td>\n",
       "      <td>Post</td>\n",
       "    </tr>\n",
       "    <tr>\n",
       "      <th>2</th>\n",
       "      <td>more than 2</td>\n",
       "      <td>5</td>\n",
       "      <td>Post</td>\n",
       "    </tr>\n",
       "    <tr>\n",
       "      <th>3</th>\n",
       "      <td>none</td>\n",
       "      <td>2</td>\n",
       "      <td>Post</td>\n",
       "    </tr>\n",
       "  </tbody>\n",
       "</table>\n",
       "</div>"
      ],
      "text/plain": [
       "  Hours of self_care  Count  Time\n",
       "0                  2     14   Pre\n",
       "1     less than1hour     18   Pre\n",
       "2        more than 2      3   Pre\n",
       "3               none      7   Pre\n",
       "0                  2     20  Post\n",
       "1     less than1hour     15  Post\n",
       "2        more than 2      5  Post\n",
       "3               none      2  Post"
      ]
     },
     "execution_count": 57,
     "metadata": {},
     "output_type": "execute_result"
    }
   ],
   "source": [
    "self_comb = pd.concat([self_pre, self_post])\n",
    "a = ['Pre','Pre','Pre','Pre','Post','Post','Post','Post']\n",
    "self_comb['Time'] = a\n",
    "self_comb"
   ]
  },
  {
   "cell_type": "code",
   "execution_count": 63,
   "id": "4935768c",
   "metadata": {},
   "outputs": [
    {
     "data": {
      "image/png": "[encoded data removed]",
      "text/plain": [
       "<Figure size 416.75x360 with 1 Axes>"
      ]
     },
     "metadata": {
      "needs_background": "light"
     },
     "output_type": "display_data"
    }
   ],
   "source": [
    "sort = ['none','less than1hour','2','more than 2']\n",
    "sns.catplot(data=self_comb, kind=\"bar\", x=\"Hours of self_care\", y=\"Count\", hue=\"Time\", palette=\"dark\", height=5, order=sort)\n",
    "plt.xlabel('Daily Self Care Time (Hours)')\n",
    "plt.ylabel('Number of people')\n",
    "plt.yticks([0,5,10,15,20,25])\n",
    "plt.xticks(rotation=20)\n",
    "plt.show()"
   ]
  }
 ],
 "metadata": {
  "kernelspec": {
   "display_name": "Python 3 (ipykernel)",
   "language": "python",
   "name": "python3"
  },
  "language_info": {
   "codemirror_mode": {
    "name": "ipython",
    "version": 3
   },
   "file_extension": ".py",
   "mimetype": "text/x-python",
   "name": "python",
   "nbconvert_exporter": "python",
   "pygments_lexer": "ipython3",
   "version": "3.9.7"
  }
 },
 "nbformat": 4,
 "nbformat_minor": 5
}
